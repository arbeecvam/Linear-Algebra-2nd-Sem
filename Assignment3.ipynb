{
  "nbformat": 4,
  "nbformat_minor": 0,
  "metadata": {
    "colab": {
      "name": "Assignment3.ipynb",
      "provenance": [],
      "collapsed_sections": [
        "97tdfEQ9BHsf",
        "sgzs6YfcDLV9",
        "DOukkaGBJ5w9"
      ],
      "include_colab_link": true
    },
    "kernelspec": {
      "name": "python3",
      "display_name": "Python 3"
    },
    "language_info": {
      "name": "python"
    }
  },
  "cells": [
    {
      "cell_type": "markdown",
      "metadata": {
        "id": "view-in-github",
        "colab_type": "text"
      },
      "source": [
        "<a href=\"https://colab.research.google.com/github/arbeecvam/Linear-Algebra-2nd-Sem/blob/main/Assignment3.ipynb\" target=\"_parent\"><img src=\"https://colab.research.google.com/assets/colab-badge.svg\" alt=\"Open In Colab\"/></a>"
      ]
    },
    {
      "cell_type": "markdown",
      "source": [
        "# Linear Algebra for ChE"
      ],
      "metadata": {
        "id": "8GqOr2VjxkjZ"
      }
    },
    {
      "cell_type": "markdown",
      "source": [
        "Alera, Arbee Chrystel and \n",
        "Aquilon, Althea Francesca"
      ],
      "metadata": {
        "id": "sPHLDMt1Zlhb"
      }
    },
    {
      "cell_type": "markdown",
      "source": [
        "## Laboratory 2: Matrices"
      ],
      "metadata": {
        "id": "6UbabP0ixqx-"
      }
    },
    {
      "cell_type": "markdown",
      "source": [
        "Now that you have a fundamental knowledge about Python, we'll try to look into greater dimensions. "
      ],
      "metadata": {
        "id": "SoF4Xw9JxthK"
      }
    },
    {
      "cell_type": "markdown",
      "source": [
        "### Objectives\n",
        "\n",
        "At the end of this activity you will be able to:\n",
        "\n",
        "1. Be familiar with matrices and their relation to linear equations. \n",
        "2. Perform basic matrix operations.\n",
        "3. Program and translate matrix equations and operations using Python."
      ],
      "metadata": {
        "id": "OrvvCfV9x3k0"
      }
    },
    {
      "cell_type": "markdown",
      "source": [
        "# Discussion"
      ],
      "metadata": {
        "id": "Y8iAQSxEyGPD"
      }
    },
    {
      "cell_type": "code",
      "source": [
        "import numpy as np\n",
        "import matplotlib.pyplot as plt\n",
        "import scipy.linalg as la\n",
        "%matplotlib inline"
      ],
      "metadata": {
        "id": "OYD-FKr_yKNO"
      },
      "execution_count": null,
      "outputs": []
    },
    {
      "cell_type": "markdown",
      "source": [
        "## **Matrices**"
      ],
      "metadata": {
        "id": "vvrYYwZ1yjFq"
      }
    },
    {
      "cell_type": "markdown",
      "source": [
        "The notation and use of matrices is probably one of the fundamentals of modern computing. Matrices are also handy representations of complex equations or multiple inter-related equations from 2-dimensional equations to even hundreds and thousands of them"
      ],
      "metadata": {
        "id": "RXdFe9M5ykvB"
      }
    },
    {
      "cell_type": "markdown",
      "source": [
        "Let's say for example you have $A$ and $B$ as system of equation."
      ],
      "metadata": {
        "id": "hXj2nxxrzGCq"
      }
    },
    {
      "cell_type": "markdown",
      "source": [
        "$$\n",
        "A = \\left\\{\n",
        "    \\begin{array}\\\n",
        "        4x + 29y \\\\ \n",
        "        10x - 17y\n",
        "    \\end{array}\n",
        "\\right. \\\\\n",
        "B = \\left\\{\n",
        "    \\begin{array}\\\n",
        "        3x+2y+6z \\\\ \n",
        "        3x -2y -z \\\\\n",
        "        -9x + 3y +8z\n",
        "    \\end{array}\n",
        "\\right. \\\\\n",
        "C = \\left\\{\n",
        "    \\begin{array}\\\n",
        "        x+y+2z \\\\ \n",
        "        4x -2y -z \\\\\n",
        "        -2x + 9y +2z\n",
        "    \\end{array}\n",
        "\\right. $$"
      ],
      "metadata": {
        "id": "pEzmN7h9z1Y_"
      }
    },
    {
      "cell_type": "markdown",
      "source": [
        "We could see that $A$ is a system of 2 equatins with 2 parameters. While $B$ is a system of 3 expations with 3 parameters We car present them as matrices as:"
      ],
      "metadata": {
        "id": "p3pmou0-z6V6"
      }
    },
    {
      "cell_type": "markdown",
      "source": [
        "$$\n",
        "A=\\begin{bmatrix} 4 & 29 \\\\ 10 & {-17}\\end{bmatrix} \\\\\n",
        "B=\\begin{bmatrix} 3 & 2 & 6 \\\\ 3 & -2 & -1 \\\\ -9 & 3 & 8\\end{bmatrix} \\\\\n",
        "C=\\begin{bmatrix} 1 & 1 & 2 \\\\ 4 & -2 & -1 \\\\ -2 & 9 & 2\\end{bmatrix}\n",
        "$$\n"
      ],
      "metadata": {
        "id": "cuBUFDHR0CbV"
      }
    },
    {
      "cell_type": "markdown",
      "source": [
        "So assuming that you already discussed the fundamental representation of matrices, their types, and operations. We'll proceed in doing them in here in Python."
      ],
      "metadata": {
        "id": "bX217XHc2Plg"
      }
    },
    {
      "cell_type": "markdown",
      "source": [
        "## **Declaring Matrices**"
      ],
      "metadata": {
        "id": "pq255_GO2gxZ"
      }
    },
    {
      "cell_type": "markdown",
      "source": [
        "The system of linear equations is represented as a matrix in which the entities or numbers present in matrices are referred to as the elements of a matrix. These elements are then arranged and ordered in rows and columns which makes up the array-like structure of the matrices. "
      ],
      "metadata": {
        "id": "f4YakKr52j2J"
      }
    },
    {
      "cell_type": "markdown",
      "source": [
        "The number of rows is denoted by i, while the number of columns is denoted by j. Therefore, the ***size of the matrix is represented by iхj***, shown in the figure below.\n"
      ],
      "metadata": {
        "id": "koTqmhWg3Qch"
      }
    },
    {
      "cell_type": "markdown",
      "source": [
        "$$A=\\begin{bmatrix}\n",
        "a_{(0,0)}&a_{(0,1)}&\\dots&a_{(0,j-1)}\\\\\n",
        "a_{(1,0)}&a_{(1,1)}&\\dots&a_{(1,j-1)}\\\\\n",
        "\\vdots&\\vdots&\\ddots&\\vdots&\\\\\n",
        "a_{(i-1,0)}&a_{(i-1,1)}&\\dots&a_{(i-1,j-1)}\n",
        "\\end{bmatrix}\n",
        "$$\n"
      ],
      "metadata": {
        "id": "4lAFlus73u1S"
      }
    },
    {
      "cell_type": "markdown",
      "source": [
        "In **declaring matrices**, defining a function must be done to make it possible for the code to print the matrix, together with its shape and rank."
      ],
      "metadata": {
        "id": "6Ea18p-w3wKX"
      }
    },
    {
      "cell_type": "code",
      "source": [
        "## Since we'll keep on describing matrices. Let's make a function. \n",
        "def describe_mat (matrix): \n",
        "     print(f'Matrix:\\n{matrix}\\n\\nShape:\\t{matrix.shape}\\nRank:\\t{matrix.ndim}\\n')"
      ],
      "metadata": {
        "id": "wdGJ-oft38zB"
      },
      "execution_count": null,
      "outputs": []
    },
    {
      "cell_type": "code",
      "source": [
        "## Declaring a 2 x 2 matrix\n",
        "A = np.array([\n",
        "    [1, 2],\n",
        "    [3, 1]\n",
        "])\n",
        "describe_mat(A)"
      ],
      "metadata": {
        "colab": {
          "base_uri": "https://localhost:8080/"
        },
        "id": "qi_44s_24Tut",
        "outputId": "8481b760-1312-410c-b156-82b54ef3735e"
      },
      "execution_count": null,
      "outputs": [
        {
          "output_type": "stream",
          "name": "stdout",
          "text": [
            "Matrix:\n",
            "[[1 2]\n",
            " [3 1]]\n",
            "\n",
            "Shape:\t(2, 2)\n",
            "Rank:\t2\n",
            "\n"
          ]
        }
      ]
    },
    {
      "cell_type": "code",
      "source": [
        "G = np.array([\n",
        "    [1, 1, 2],\n",
        "    [3, 1, 4]\n",
        "])\n",
        "describe_mat(G)"
      ],
      "metadata": {
        "colab": {
          "base_uri": "https://localhost:8080/"
        },
        "id": "r9DUIpej6JGj",
        "outputId": "52101b41-d18c-4224-aa87-636437df7f16"
      },
      "execution_count": null,
      "outputs": [
        {
          "output_type": "stream",
          "name": "stdout",
          "text": [
            "Matrix:\n",
            "[[1 1 2]\n",
            " [3 1 4]]\n",
            "\n",
            "Shape:\t(2, 3)\n",
            "Rank:\t2\n",
            "\n"
          ]
        }
      ]
    },
    {
      "cell_type": "code",
      "source": [
        "## Declaring a 3 x 2 matrix\n",
        "\n",
        "B = np.array([\n",
        "    [8, 2],\n",
        "    [5, 4],\n",
        "    [1, 1]\n",
        "])\n",
        "describe_mat (B)"
      ],
      "metadata": {
        "colab": {
          "base_uri": "https://localhost:8080/"
        },
        "id": "jf_KD9Ts6VaE",
        "outputId": "4477a32b-d06d-43c3-8e7b-d3347cd3a77f"
      },
      "execution_count": null,
      "outputs": [
        {
          "output_type": "stream",
          "name": "stdout",
          "text": [
            "Matrix:\n",
            "[[8 2]\n",
            " [5 4]\n",
            " [1 1]]\n",
            "\n",
            "Shape:\t(3, 2)\n",
            "Rank:\t2\n",
            "\n"
          ]
        }
      ]
    },
    {
      "cell_type": "code",
      "source": [
        "H= np.array([1,2,3,4,5]) \n",
        "describe_mat(H)"
      ],
      "metadata": {
        "colab": {
          "base_uri": "https://localhost:8080/"
        },
        "id": "r58OWzoQ6jbX",
        "outputId": "c2dc3b08-f836-4a73-ec55-1cfd5e3cb9bb"
      },
      "execution_count": null,
      "outputs": [
        {
          "output_type": "stream",
          "name": "stdout",
          "text": [
            "Matrix:\n",
            "[1 2 3 4 5]\n",
            "\n",
            "Shape:\t(5,)\n",
            "Rank:\t1\n",
            "\n"
          ]
        }
      ]
    },
    {
      "cell_type": "markdown",
      "source": [
        "## **Categorizing Matrices**"
      ],
      "metadata": {
        "id": "-vqs11HE7OTM"
      }
    },
    {
      "cell_type": "markdown",
      "source": [
        "There are several ways of classifying matrices. They can be categorized ***according to their shape and elemental values***. "
      ],
      "metadata": {
        "id": "cL2qJhFjb14-"
      }
    },
    {
      "cell_type": "markdown",
      "source": [
        "## **According to Shape**"
      ],
      "metadata": {
        "id": "ygtqEHuD7SD1"
      }
    },
    {
      "cell_type": "markdown",
      "source": [
        "### Row and Column Matrices"
      ],
      "metadata": {
        "id": "aztvC8Y-7V3F"
      }
    },
    {
      "cell_type": "markdown",
      "source": [
        "Row and column matrices are common in vector and matrix computations. They can also represent row and column space. Row and column matrices are represented by a single column or single row. So with that being, the shape of row matrices would be spaces of a bigger vector $i \\times $j and column matrices would be $i \\times 1$."
      ],
      "metadata": {
        "id": "Sz_W9VaP7Zi2"
      }
    },
    {
      "cell_type": "code",
      "source": [
        "## Declaring a Row Matrix\n",
        "\n",
        "row_mat_1D=np.array([ \n",
        "    7, 3, 6, -4\n",
        "]) # this is a 1-D Matrix with a shape of (3,the ), it's not really considered as a row matrix. \n",
        "row_mat_2D = np.array([\n",
        "    [900,8,3,-2]\n",
        "]) ## this is a 2-D Matrix with a shape of (1,3) \n",
        "\n",
        "describe_mat(row_mat_1D)\n",
        "describe_mat (row_mat_2D)"
      ],
      "metadata": {
        "colab": {
          "base_uri": "https://localhost:8080/"
        },
        "id": "H8OazDyL7k1m",
        "outputId": "d4c319e1-b1c7-4811-bf39-e03c288d9f6e"
      },
      "execution_count": null,
      "outputs": [
        {
          "output_type": "stream",
          "name": "stdout",
          "text": [
            "Matrix:\n",
            "[ 7  3  6 -4]\n",
            "\n",
            "Shape:\t(4,)\n",
            "Rank:\t1\n",
            "\n",
            "Matrix:\n",
            "[[900   8   3  -2]]\n",
            "\n",
            "Shape:\t(1, 4)\n",
            "Rank:\t2\n",
            "\n"
          ]
        }
      ]
    },
    {
      "cell_type": "code",
      "source": [
        "## Declaring a Column Matrix\n",
        "\n",
        "col_mat = np.array([\n",
        "    [4],\n",
        "    [9],\n",
        "    [7]\n",
        "]) ## this is a 2-D Matrix with a shape of (3,1)\n",
        "describe_mat(col_mat)"
      ],
      "metadata": {
        "colab": {
          "base_uri": "https://localhost:8080/"
        },
        "id": "IorsfWky8mnL",
        "outputId": "5067ac69-e0ae-492c-cb0e-37cca43ee9d4"
      },
      "execution_count": null,
      "outputs": [
        {
          "output_type": "stream",
          "name": "stdout",
          "text": [
            "Matrix:\n",
            "[[4]\n",
            " [9]\n",
            " [7]]\n",
            "\n",
            "Shape:\t(3, 1)\n",
            "Rank:\t2\n",
            "\n"
          ]
        }
      ]
    },
    {
      "cell_type": "markdown",
      "source": [
        "### Square Matrices"
      ],
      "metadata": {
        "id": "ZglgeG5r96fl"
      }
    },
    {
      "cell_type": "markdown",
      "source": [
        "Square matrices are ***matrices that have an equal number of rows and columns***— it can be denoted as i = j, for that reason, the number of elements in it is always a perfect square number."
      ],
      "metadata": {
        "id": "_5HRkuyI989K"
      }
    },
    {
      "cell_type": "code",
      "source": [
        "def describe_mat(matrix):\n",
        "  is_square = True if matrix.shape[0] ==matrix.shape [1] else False \n",
        "  print(f'Matrix:\\n{matrix}\\n\\nShape:\\t{matrix.shape}\\nRank:\\t{matrix.ndim}\\nIs Square: {is_square}\\n')"
      ],
      "metadata": {
        "id": "IhiD-UbP-GoB"
      },
      "execution_count": null,
      "outputs": []
    },
    {
      "cell_type": "code",
      "source": [
        "square_mat = np.array([ \n",
        "    [6,1000,8],\n",
        "    [23,4,5], \n",
        "    [1,2,3]\n",
        "])\n",
        "non_square_mat = np.array([\n",
        "     [9,8,1000000000],\n",
        "     [327638196,182781728,872837]\n",
        "])\n",
        "describe_mat(square_mat)\n",
        "describe_mat(non_square_mat)"
      ],
      "metadata": {
        "colab": {
          "base_uri": "https://localhost:8080/"
        },
        "id": "66alBZss-sma",
        "outputId": "0062e3d6-aa69-477f-b292-1857d0555e8d"
      },
      "execution_count": null,
      "outputs": [
        {
          "output_type": "stream",
          "name": "stdout",
          "text": [
            "Matrix:\n",
            "[[   6 1000    8]\n",
            " [  23    4    5]\n",
            " [   1    2    3]]\n",
            "\n",
            "Shape:\t(3, 3)\n",
            "Rank:\t2\n",
            "Is Square: True\n",
            "\n",
            "Matrix:\n",
            "[[         9          8 1000000000]\n",
            " [ 327638196  182781728     872837]]\n",
            "\n",
            "Shape:\t(2, 3)\n",
            "Rank:\t2\n",
            "Is Square: False\n",
            "\n"
          ]
        }
      ]
    },
    {
      "cell_type": "markdown",
      "source": [
        "## **According to Element Values**"
      ],
      "metadata": {
        "id": "xeAviM2yBEVB"
      }
    },
    {
      "cell_type": "markdown",
      "source": [
        "### Null Matrix"
      ],
      "metadata": {
        "id": "97tdfEQ9BHsf"
      }
    },
    {
      "cell_type": "markdown",
      "source": [
        "A Null matrix is a ***matrix that has no elements, not even one or zero***. It is always a subspace of any vector or matrix."
      ],
      "metadata": {
        "id": "SRev0LUiBKM-"
      }
    },
    {
      "cell_type": "code",
      "source": [
        "def describe_mat(matrix):\n",
        "  if matrix.size > 0:\n",
        "     is_square = True if matrix.shape[0] == matrix.shape[1] else False \n",
        "     print(f'Matrix: \\n{matrix}\\n\\nshape:\\t{matrix. shape}\\nRank:\\t{matrix.ndim}\\nIs Square: (is_square)\\n') \n",
        "  else:\n",
        "    print('Matrix is Null')"
      ],
      "metadata": {
        "id": "1Fctm6xRBQZF"
      },
      "execution_count": null,
      "outputs": []
    },
    {
      "cell_type": "code",
      "source": [
        "null_mat = np.array([])\n",
        "describe_mat(null_mat)"
      ],
      "metadata": {
        "colab": {
          "base_uri": "https://localhost:8080/"
        },
        "id": "aaQQmgA2B56t",
        "outputId": "2bc50597-95f7-49b4-ea7a-457da0654685"
      },
      "execution_count": null,
      "outputs": [
        {
          "output_type": "stream",
          "name": "stdout",
          "text": [
            "Matrix is Null\n"
          ]
        }
      ]
    },
    {
      "cell_type": "markdown",
      "source": [
        "### Zero Matrix"
      ],
      "metadata": {
        "id": "tuZuebTFCCpO"
      }
    },
    {
      "cell_type": "markdown",
      "source": [
        "A zero matrix is any rectangular matrix in which ***all its elements in the matrix are zero.***\n"
      ],
      "metadata": {
        "id": "SKcJwRnqCSAT"
      }
    },
    {
      "cell_type": "code",
      "source": [
        "zero_mat_row = np.zeros((1,2))\n",
        "zero_mat_sqr = np.zeros((2,2))\n",
        "zero_mat_rct = np.zeros((3,2))\n",
        "\n",
        "print(f'Zero Row Matrix: \\n{zero_mat_row}')\n",
        "print(f'Zero Square Matrix: \\n{zero_mat_sqr}')\n",
        "print(f'Zero Rectangular Matrix: \\n{zero_mat_rct}')\n",
        "\n"
      ],
      "metadata": {
        "colab": {
          "base_uri": "https://localhost:8080/"
        },
        "id": "wQA1tf71CXa1",
        "outputId": "76da59c5-4d3d-4f25-935c-e68cc9aa931c"
      },
      "execution_count": null,
      "outputs": [
        {
          "output_type": "stream",
          "name": "stdout",
          "text": [
            "Zero Row Matrix: \n",
            "[[0. 0.]]\n",
            "Zero Square Matrix: \n",
            "[[0. 0.]\n",
            " [0. 0.]]\n",
            "Zero Rectangular Matrix: \n",
            "[[0. 0.]\n",
            " [0. 0.]\n",
            " [0. 0.]]\n"
          ]
        }
      ]
    },
    {
      "cell_type": "markdown",
      "source": [
        "#### Ones Matrix"
      ],
      "metadata": {
        "id": "sgzs6YfcDLV9"
      }
    },
    {
      "cell_type": "markdown",
      "source": [
        "A ones matrix, just like the zero matrix, can be any rectangular matrix but ***all of its elements are 1s instead of 0s***."
      ],
      "metadata": {
        "id": "fvmQysFMEA7L"
      }
    },
    {
      "cell_type": "code",
      "source": [
        "ones_mat_row = np.ones ((1,2))\n",
        "ones_mat_sqr = np.ones((2, 2))\n",
        "ones_mat_rct = np.ones((3,2))\n",
        "\n",
        "print(f'ones Row Matrix: \\n{ones_mat_row}') \n",
        "print(f'ones Square Matrix: \\n{ones_mat_sqr}')\n",
        "print(f'Ones Rectangular Matrix: \\n{ones_mat_rct}')\n"
      ],
      "metadata": {
        "colab": {
          "base_uri": "https://localhost:8080/"
        },
        "id": "82KzkKsBDvNg",
        "outputId": "0290e282-c392-416f-f60d-fcbb9d53af09"
      },
      "execution_count": null,
      "outputs": [
        {
          "output_type": "stream",
          "name": "stdout",
          "text": [
            "ones Row Matrix: \n",
            "[[1. 1.]]\n",
            "ones Square Matrix: \n",
            "[[1. 1.]\n",
            " [1. 1.]]\n",
            "Ones Rectangular Matrix: \n",
            "[[1. 1.]\n",
            " [1. 1.]\n",
            " [1. 1.]]\n"
          ]
        }
      ]
    },
    {
      "cell_type": "markdown",
      "source": [
        "#### Diagonal Matrix"
      ],
      "metadata": {
        "id": "KTJjMhbgEovF"
      }
    },
    {
      "cell_type": "markdown",
      "source": [
        "A Diagonal Matrix is a square matrix wherein ***all its non-diagonal elements are zeros.***"
      ],
      "metadata": {
        "id": "oFRmKfmrFQJQ"
      }
    },
    {
      "cell_type": "code",
      "source": [
        "np.array([\n",
        "    [2, 0, 0],\n",
        "    [0, 8, 0],\n",
        "    [0, 0, 4]\n",
        "])\n",
        "# a[1,1], a[2,2], ... a[n-1,n-1]"
      ],
      "metadata": {
        "colab": {
          "base_uri": "https://localhost:8080/"
        },
        "id": "Z01-5OVvEq43",
        "outputId": "998dba5d-0d51-423f-e457-6a1c575f35ab"
      },
      "execution_count": null,
      "outputs": [
        {
          "output_type": "execute_result",
          "data": {
            "text/plain": [
              "array([[2, 0, 0],\n",
              "       [0, 8, 0],\n",
              "       [0, 0, 4]])"
            ]
          },
          "metadata": {},
          "execution_count": 20
        }
      ]
    },
    {
      "cell_type": "code",
      "source": [
        "d = np.diag ([7,5,2,3])\n",
        "d"
      ],
      "metadata": {
        "colab": {
          "base_uri": "https://localhost:8080/"
        },
        "id": "KOC-qzDQFAXe",
        "outputId": "8a062ed4-220e-4b2e-cae6-e3be1991ec6d"
      },
      "execution_count": null,
      "outputs": [
        {
          "output_type": "execute_result",
          "data": {
            "text/plain": [
              "array([[7, 0, 0, 0],\n",
              "       [0, 5, 0, 0],\n",
              "       [0, 0, 2, 0],\n",
              "       [0, 0, 0, 3]])"
            ]
          },
          "metadata": {},
          "execution_count": 7
        }
      ]
    },
    {
      "cell_type": "code",
      "source": [
        "d.shape[0] == d.shape[1]"
      ],
      "metadata": {
        "colab": {
          "base_uri": "https://localhost:8080/"
        },
        "id": "8gnzsIgk3cNT",
        "outputId": "723027cb-ef0d-4ccf-a47e-d438eae13da1"
      },
      "execution_count": null,
      "outputs": [
        {
          "output_type": "execute_result",
          "data": {
            "text/plain": [
              "True"
            ]
          },
          "metadata": {},
          "execution_count": 4
        }
      ]
    },
    {
      "cell_type": "markdown",
      "source": [
        "#### Identity Matrix"
      ],
      "metadata": {
        "id": "wka1mTYvFzYr"
      }
    },
    {
      "cell_type": "markdown",
      "source": [
        "An identity matrix is a special diagonal matrix in which the ***values at the diagonal are ones (1)***. "
      ],
      "metadata": {
        "id": "6rd7BkPxF2SE"
      }
    },
    {
      "cell_type": "code",
      "source": [
        "np.eye(3)"
      ],
      "metadata": {
        "colab": {
          "base_uri": "https://localhost:8080/"
        },
        "id": "uyT_bYMNF8KR",
        "outputId": "d288a7de-2eb3-4990-b165-ffc32a6469de"
      },
      "execution_count": null,
      "outputs": [
        {
          "output_type": "execute_result",
          "data": {
            "text/plain": [
              "array([[1., 0., 0.],\n",
              "       [0., 1., 0.],\n",
              "       [0., 0., 1.]])"
            ]
          },
          "metadata": {},
          "execution_count": 42
        }
      ]
    },
    {
      "cell_type": "code",
      "source": [
        "np.identity(4)"
      ],
      "metadata": {
        "colab": {
          "base_uri": "https://localhost:8080/"
        },
        "id": "SVjkyaJDF_pP",
        "outputId": "d8b2d5ca-2f45-4d3f-8709-65bc4b83f0af"
      },
      "execution_count": null,
      "outputs": [
        {
          "output_type": "execute_result",
          "data": {
            "text/plain": [
              "array([[1., 0., 0., 0.],\n",
              "       [0., 1., 0., 0.],\n",
              "       [0., 0., 1., 0.],\n",
              "       [0., 0., 0., 1.]])"
            ]
          },
          "metadata": {},
          "execution_count": 43
        }
      ]
    },
    {
      "cell_type": "markdown",
      "source": [
        "#### Upper Triangular Matrix"
      ],
      "metadata": {
        "id": "wgZLV_wiGGg2"
      }
    },
    {
      "cell_type": "markdown",
      "source": [
        "An upper triangular matrix is a matrix that ***has values above the diagonal.***"
      ],
      "metadata": {
        "id": "wvStnOZvHL-b"
      }
    },
    {
      "cell_type": "code",
      "source": [
        "np.array([\n",
        "  [5,9,8],\n",
        "  [0,283,9],\n",
        "  [0,0,1],\n",
        "  [0,0,0]\n",
        "])"
      ],
      "metadata": {
        "colab": {
          "base_uri": "https://localhost:8080/"
        },
        "id": "NwGXfBNKGa2e",
        "outputId": "d914da31-9426-481e-e923-d6a0d199cfc4"
      },
      "execution_count": null,
      "outputs": [
        {
          "output_type": "execute_result",
          "data": {
            "text/plain": [
              "array([[  5,   9,   8],\n",
              "       [  0, 283,   9],\n",
              "       [  0,   0,   1],\n",
              "       [  0,   0,   0]])"
            ]
          },
          "metadata": {},
          "execution_count": 19
        }
      ]
    },
    {
      "cell_type": "markdown",
      "source": [
        "#### Lower Triangular Matrix"
      ],
      "metadata": {
        "id": "h0iQyz-hGqcz"
      }
    },
    {
      "cell_type": "markdown",
      "source": [
        "A lower triangular matrix is a matrix that ***has values below the diagonal.***"
      ],
      "metadata": {
        "id": "-qzH8m5eGxDL"
      }
    },
    {
      "cell_type": "code",
      "source": [
        "np.array([\n",
        "  [0,0,0],\n",
        "  [283,0,0],\n",
        "  [910,8,0],\n",
        "  [2,93,8]      \n",
        "])"
      ],
      "metadata": {
        "colab": {
          "base_uri": "https://localhost:8080/"
        },
        "id": "Pq8quC-0G8Bs",
        "outputId": "ce86562b-3d2c-4980-d9a6-ccc0204f62b4"
      },
      "execution_count": null,
      "outputs": [
        {
          "output_type": "execute_result",
          "data": {
            "text/plain": [
              "array([[  0,   0,   0],\n",
              "       [283,   0,   0],\n",
              "       [910,   8,   0],\n",
              "       [  2,  93,   8]])"
            ]
          },
          "metadata": {},
          "execution_count": 48
        }
      ]
    },
    {
      "cell_type": "markdown",
      "source": [
        "## **Matrix Algebra**"
      ],
      "metadata": {
        "id": "vUyQLiR_JLsH"
      }
    },
    {
      "cell_type": "markdown",
      "source": [
        "### Addition"
      ],
      "metadata": {
        "id": "xM0hcv3sJNjV"
      }
    },
    {
      "cell_type": "code",
      "source": [
        "A = np.array([\n",
        "    [1,2],\n",
        "    [2,3],\n",
        "    [4,1]\n",
        "])\n",
        "B = np.array([\n",
        "  [2,2],\n",
        "  [0,0],\n",
        "  [5,7]\n",
        "])\n",
        "A+B"
      ],
      "metadata": {
        "colab": {
          "base_uri": "https://localhost:8080/"
        },
        "id": "JoMIalo6JPX3",
        "outputId": "edf984d5-6e53-47c9-cd1a-4cfefe0b9cf6"
      },
      "execution_count": null,
      "outputs": [
        {
          "output_type": "execute_result",
          "data": {
            "text/plain": [
              "array([[3, 4],\n",
              "       [2, 3],\n",
              "       [9, 8]])"
            ]
          },
          "metadata": {},
          "execution_count": 50
        }
      ]
    },
    {
      "cell_type": "code",
      "source": [
        "2+A ##Broadcasting\n",
        "#2*np.ones(A.shape)+A"
      ],
      "metadata": {
        "colab": {
          "base_uri": "https://localhost:8080/"
        },
        "id": "YWfXBxdrJw89",
        "outputId": "ba33ff6f-6603-4281-fe66-d4e04f0a2966"
      },
      "execution_count": null,
      "outputs": [
        {
          "output_type": "execute_result",
          "data": {
            "text/plain": [
              "array([[3, 4],\n",
              "       [4, 5],\n",
              "       [6, 3]])"
            ]
          },
          "metadata": {},
          "execution_count": 53
        }
      ]
    },
    {
      "cell_type": "markdown",
      "source": [
        "### Subtraction"
      ],
      "metadata": {
        "id": "DOukkaGBJ5w9"
      }
    },
    {
      "cell_type": "code",
      "source": [
        "A-B"
      ],
      "metadata": {
        "colab": {
          "base_uri": "https://localhost:8080/"
        },
        "id": "Ym7iS_qiJzN1",
        "outputId": "24cf0b39-ae7f-40f6-be5f-d521eeebed8e"
      },
      "execution_count": null,
      "outputs": [
        {
          "output_type": "execute_result",
          "data": {
            "text/plain": [
              "array([[-1,  0],\n",
              "       [ 2,  3],\n",
              "       [-1, -6]])"
            ]
          },
          "metadata": {},
          "execution_count": 54
        }
      ]
    },
    {
      "cell_type": "code",
      "source": [
        "3-B"
      ],
      "metadata": {
        "colab": {
          "base_uri": "https://localhost:8080/"
        },
        "id": "2Croz5TlJ_qN",
        "outputId": "641367a7-cf88-430b-f9a7-b99faea2f542"
      },
      "execution_count": null,
      "outputs": [
        {
          "output_type": "execute_result",
          "data": {
            "text/plain": [
              "array([[ 1,  1],\n",
              "       [ 3,  3],\n",
              "       [-2, -4]])"
            ]
          },
          "metadata": {},
          "execution_count": 55
        }
      ]
    },
    {
      "cell_type": "markdown",
      "source": [
        "### Element-wise Multiplication"
      ],
      "metadata": {
        "id": "2EE5jFEFKEcK"
      }
    },
    {
      "cell_type": "markdown",
      "source": [
        "Element-Wise Multiplication in Python can be utilized using two methods,  ***the np.multiply() operator and the * operator.***"
      ],
      "metadata": {
        "id": "hDaCJi6o4vPg"
      }
    },
    {
      "cell_type": "code",
      "source": [
        "A*B\n",
        "np.multiply(A,B)"
      ],
      "metadata": {
        "colab": {
          "base_uri": "https://localhost:8080/"
        },
        "id": "friyKisnKHKP",
        "outputId": "2b2fa28c-7f86-4827-d0f6-882c95ee7445"
      },
      "execution_count": null,
      "outputs": [
        {
          "output_type": "execute_result",
          "data": {
            "text/plain": [
              "array([[ 2,  4],\n",
              "       [ 0,  0],\n",
              "       [20,  7]])"
            ]
          },
          "metadata": {},
          "execution_count": 56
        }
      ]
    },
    {
      "cell_type": "code",
      "source": [
        "2*A"
      ],
      "metadata": {
        "colab": {
          "base_uri": "https://localhost:8080/"
        },
        "id": "LBZS96ZFKQpR",
        "outputId": "67e12349-0c3a-4a68-8a40-dc5eb05aed10"
      },
      "execution_count": null,
      "outputs": [
        {
          "output_type": "execute_result",
          "data": {
            "text/plain": [
              "array([[2, 4],\n",
              "       [4, 6],\n",
              "       [8, 2]])"
            ]
          },
          "metadata": {},
          "execution_count": 57
        }
      ]
    },
    {
      "cell_type": "code",
      "source": [
        "##A@B"
      ],
      "metadata": {
        "id": "OWe9W4KiKbM6"
      },
      "execution_count": null,
      "outputs": []
    },
    {
      "cell_type": "code",
      "source": [
        "alpha = 10** - 10\n",
        "A/(alpha+B)"
      ],
      "metadata": {
        "colab": {
          "base_uri": "https://localhost:8080/"
        },
        "id": "CN6kg4z-Iil7",
        "outputId": "64ce2e23-4eb9-4da6-98d4-abc747b4154f"
      },
      "execution_count": null,
      "outputs": [
        {
          "output_type": "execute_result",
          "data": {
            "text/plain": [
              "array([[0.4       , 0.4       , 0.4       ],\n",
              "       [0.5       , 0.5       , 0.5       ],\n",
              "       [0.57142857, 0.57142857, 0.57142857]])"
            ]
          },
          "metadata": {},
          "execution_count": 16
        }
      ]
    },
    {
      "cell_type": "code",
      "source": [
        "np.add(A,B)"
      ],
      "metadata": {
        "colab": {
          "base_uri": "https://localhost:8080/"
        },
        "id": "mXsFXu2bIs7G",
        "outputId": "aeeb6e8c-0f38-4459-914b-ce5daae5a47e"
      },
      "execution_count": null,
      "outputs": [
        {
          "output_type": "execute_result",
          "data": {
            "text/plain": [
              "array([[ 7, 14, 21],\n",
              "       [ 9, 18, 27],\n",
              "       [11, 22, 33]])"
            ]
          },
          "metadata": {},
          "execution_count": 17
        }
      ]
    },
    {
      "cell_type": "markdown",
      "source": [
        "# **PRACTICE**"
      ],
      "metadata": {
        "id": "xfV2wEXQfpe7"
      }
    },
    {
      "cell_type": "markdown",
      "source": [
        "1. Given the linear combination below, try to create a corresponding matrix representing it."
      ],
      "metadata": {
        "id": "pQ6PTCf_k9BV"
      }
    },
    {
      "cell_type": "markdown",
      "source": [
        ":$$\\theta = 5x + 3y - z$$"
      ],
      "metadata": {
        "id": "2YHfRm8YlUpc"
      }
    },
    {
      "cell_type": "code",
      "source": [
        "theta = np.array([\n",
        "  [5,3,-1]\n",
        "])\n",
        "describe_mat(theta)"
      ],
      "metadata": {
        "id": "8zxQb2zklbQG",
        "colab": {
          "base_uri": "https://localhost:8080/"
        },
        "outputId": "5308c4a3-3ec5-4cb7-d1b4-ee902ed45b97"
      },
      "execution_count": null,
      "outputs": [
        {
          "output_type": "stream",
          "name": "stdout",
          "text": [
            "Matrix:\n",
            "[[ 5  3 -1]]\n",
            "\n",
            "Shape:\t(1, 3)\n",
            "Rank:\t2\n",
            "Is Square: False\n",
            "\n"
          ]
        }
      ]
    },
    {
      "cell_type": "markdown",
      "source": [
        "2. Given the system of linear combinations below, try to encode it as a matrix. Also describe the matrix."
      ],
      "metadata": {
        "id": "M6MXaItmlbpP"
      }
    },
    {
      "cell_type": "markdown",
      "source": [
        "$$\n",
        "A = \\left\\{\\begin{array}\n",
        "5x_1 + 2x_2 +x_3\\\\\n",
        "4x_2 - x_3\\\\\n",
        "10x_3\n",
        "\\end{array}\\right.\n",
        "$$"
      ],
      "metadata": {
        "id": "1t_7Sdc2leZp"
      }
    },
    {
      "cell_type": "code",
      "source": [
        "A = np.array([\n",
        "  [1,2,1],\n",
        "  [0,4,-1],\n",
        "  [10,0,0]\n",
        "])\n",
        "describe_mat(A)\n",
        "    "
      ],
      "metadata": {
        "id": "3AH8AYEqljuZ",
        "colab": {
          "base_uri": "https://localhost:8080/"
        },
        "outputId": "9df4975b-5f16-40c2-a66e-41419a49fd03"
      },
      "execution_count": null,
      "outputs": [
        {
          "output_type": "stream",
          "name": "stdout",
          "text": [
            "Matrix:\n",
            "[[ 1  2  1]\n",
            " [ 0  4 -1]\n",
            " [10  0  0]]\n",
            "\n",
            "Shape:\t(3, 3)\n",
            "Rank:\t2\n",
            "Is Square: True\n",
            "\n"
          ]
        }
      ]
    },
    {
      "cell_type": "markdown",
      "source": [
        "3. Given the matrix below, express it as a linear combination in a markdown."
      ],
      "metadata": {
        "id": "PBMMZqUFlj7d"
      }
    },
    {
      "cell_type": "code",
      "source": [
        "G = np.array([\n",
        "    [1,7,8],\n",
        "    [2,2,2],\n",
        "    [4,6,7]\n",
        "])\n"
      ],
      "metadata": {
        "id": "X7HFc2Eblwzr"
      },
      "execution_count": null,
      "outputs": []
    },
    {
      "cell_type": "markdown",
      "source": [
        "$$\n",
        "G = \\left\\{\\begin{array}\n",
        "1x + 7y +8z\\\\\n",
        "2x + 2y + 2z\\\\\n",
        "4x + 6y + 7z\n",
        "\\end{array}\\right.\n",
        "$$\n",
        "\n"
      ],
      "metadata": {
        "id": "BMGJNSoql1eP"
      }
    },
    {
      "cell_type": "markdown",
      "source": [
        "4. Given the matrix below, display the output as a LaTeX markdown also express it as a system of linear combinations."
      ],
      "metadata": {
        "id": "65segjgul6WX"
      }
    },
    {
      "cell_type": "code",
      "source": [
        "H = np.tril(G)\n",
        "H"
      ],
      "metadata": {
        "id": "6sfbmB72l_8l",
        "colab": {
          "base_uri": "https://localhost:8080/"
        },
        "outputId": "90751fa0-1c2d-478b-8f21-33590f8fced1"
      },
      "execution_count": null,
      "outputs": [
        {
          "output_type": "execute_result",
          "data": {
            "text/plain": [
              "array([[1, 0, 0],\n",
              "       [2, 2, 0],\n",
              "       [4, 6, 7]])"
            ]
          },
          "metadata": {},
          "execution_count": 10
        }
      ]
    },
    {
      "cell_type": "markdown",
      "source": [
        "$$\n",
        "H = \\left\\{\\begin{array}\n",
        "1x \\\\\n",
        "2x + 2y \\\\\n",
        "4x + 6y + 7z\n",
        "\\end{array}\\right.\n",
        "$$\n",
        " "
      ],
      "metadata": {
        "id": "WzsQz3S537PE"
      }
    },
    {
      "cell_type": "markdown",
      "source": [
        "$$ H=\\begin{bmatrix} 1 & 0 & 0 \\\\ 2 & 2 & 0 \\\\ 4 & 6 & 7\\end{bmatrix}\n",
        "$$"
      ],
      "metadata": {
        "id": "hzYr4pWB5vHL"
      }
    },
    {
      "cell_type": "markdown",
      "source": [
        "#**ACTIVITY**"
      ],
      "metadata": {
        "id": "dVjOvn61mRd3"
      }
    },
    {
      "cell_type": "markdown",
      "source": [
        "### **Task 1**"
      ],
      "metadata": {
        "id": "AiNIf_n7mV71"
      }
    },
    {
      "cell_type": "markdown",
      "source": [
        "Create a function named `mat_desc()` that througouhly describes a matrix, it should: <br>\n",
        "1. Displays the shape, size, and rank of the matrix. <br>\n",
        "2. Displays whether the matrix is square or non-square. <br>\n",
        "3. Displays whether the matrix is an empty matrix. <br>\n",
        "4. Displays if the matrix is an identity, ones, or zeros matrix <br>\n",
        "   \n",
        "Use 3 sample matrices in which their shapes are not lower than $(3,3)$.\n",
        "In your methodology, create a flowchart discuss the functions and methods you have done. Present your results in the results section showing the description of each matrix you have declared."
      ],
      "metadata": {
        "id": "Mqlzfilgmhln"
      }
    },
    {
      "cell_type": "code",
      "source": [
        "import numpy as np"
      ],
      "metadata": {
        "id": "_5enllB-7HX1"
      },
      "execution_count": null,
      "outputs": []
    },
    {
      "cell_type": "code",
      "source": [
        "def mat_desc(matrix):\n",
        "  if matrix.size > 0:\n",
        "    is_square = True if matrix.shape[0] == matrix.shape[1] else False\n",
        "    print (f'Matrix:\\n{matrix}\\n\\nShape:\\t{matrix.shape}\\nRank:\\t{matrix.ndim}\\nIs Square: {is_square}\\n')\n",
        "  else:\n",
        "    print('Matrix is Null')"
      ],
      "metadata": {
        "id": "mTemmIaT4ojw"
      },
      "execution_count": null,
      "outputs": []
    },
    {
      "cell_type": "code",
      "source": [
        "mat_A= np.ones((6,6,))\n",
        "\n",
        "print('Matrix A:')\n",
        "mat_desc(mat_A)\n",
        "\n",
        "output = np.all((np.identity(6)))\n",
        "if output:\n",
        "  print('Identity Matrix')\n",
        "else:\n",
        "  print('Not an Identity Matrix')\n",
        "\n",
        "output = np.all((mat_A == 1))\n",
        "if output:\n",
        "  print('Ones Matrix')\n",
        "else:\n",
        "  print('Not a Ones Matrix')\n",
        "\n",
        "output = np.all((mat_A == 0))\n",
        "if output:\n",
        "  print('Zero Matrix')\n",
        "else:\n",
        "  print('Non-zero Matrix')"
      ],
      "metadata": {
        "colab": {
          "base_uri": "https://localhost:8080/"
        },
        "id": "3HeEXq4T41sL",
        "outputId": "72428d59-ccb6-479f-b6fe-edf062ebf8d1"
      },
      "execution_count": null,
      "outputs": [
        {
          "output_type": "stream",
          "name": "stdout",
          "text": [
            "Matrix A:\n",
            "Matrix:\n",
            "[[1. 1. 1. 1. 1. 1.]\n",
            " [1. 1. 1. 1. 1. 1.]\n",
            " [1. 1. 1. 1. 1. 1.]\n",
            " [1. 1. 1. 1. 1. 1.]\n",
            " [1. 1. 1. 1. 1. 1.]\n",
            " [1. 1. 1. 1. 1. 1.]]\n",
            "\n",
            "Shape:\t(6, 6)\n",
            "Rank:\t2\n",
            "Is Square: True\n",
            "\n",
            "Not an Identity Matrix\n",
            "Ones Matrix\n",
            "Non-zero Matrix\n"
          ]
        }
      ]
    },
    {
      "cell_type": "code",
      "source": [
        "mat_B= np.ones((8,4,))\n",
        "print('Matrix B:')\n",
        "mat_desc(mat_B)\n",
        "\n",
        "output = np.all((np.identity(8)))\n",
        "if output:\n",
        "  print('Identity Matrix')\n",
        "else:\n",
        "  print('Not an Identity Matrix')\n",
        "\n",
        "output = np.all((mat_B == 2))\n",
        "if output:\n",
        "  print('Ones Matrix')\n",
        "else:\n",
        "  print('Not a Ones Matrix')\n",
        "\n",
        "output = np.all((mat_B == 0))\n",
        "if output:\n",
        "  print('Zero Matrix')\n",
        "else:\n",
        "  print('Non-Zero Matrix')"
      ],
      "metadata": {
        "colab": {
          "base_uri": "https://localhost:8080/"
        },
        "id": "Sht3CGaNBR8M",
        "outputId": "17b17133-193d-48c7-ac52-d5025020f12a"
      },
      "execution_count": null,
      "outputs": [
        {
          "output_type": "stream",
          "name": "stdout",
          "text": [
            "Matrix B:\n",
            "Matrix:\n",
            "[[1. 1. 1. 1.]\n",
            " [1. 1. 1. 1.]\n",
            " [1. 1. 1. 1.]\n",
            " [1. 1. 1. 1.]\n",
            " [1. 1. 1. 1.]\n",
            " [1. 1. 1. 1.]\n",
            " [1. 1. 1. 1.]\n",
            " [1. 1. 1. 1.]]\n",
            "\n",
            "Shape:\t(8, 4)\n",
            "Rank:\t2\n",
            "Is Square: False\n",
            "\n",
            "Not an Identity Matrix\n",
            "Not a Ones Matrix\n",
            "Non-Zero Matrix\n"
          ]
        }
      ]
    },
    {
      "cell_type": "code",
      "source": [
        "mat_C= np.ones((6,3,))\n",
        "print('Matrix C:')\n",
        "mat_desc(mat_C)\n",
        "\n",
        "output = np.all((np.identity(1)))\n",
        "if output:\n",
        "  print('Identity Matrix')\n",
        "else:\n",
        "  print('Not an Identity Matrix')\n",
        "\n",
        "output = np.all((mat_C == 0))\n",
        "if output:\n",
        "  print('Ones Matrix')\n",
        "else:\n",
        "  print('Not a Ones Matrix')\n",
        "\n",
        "output = np.all((mat_C == 0))\n",
        "if output:\n",
        "  print('Zero Matrix')\n",
        "else:\n",
        "  print('Non-Zero Matrix')"
      ],
      "metadata": {
        "colab": {
          "base_uri": "https://localhost:8080/"
        },
        "id": "BgiU0Mt3CWEE",
        "outputId": "57882f39-e54f-432f-c773-7bb3f2bb8e94"
      },
      "execution_count": null,
      "outputs": [
        {
          "output_type": "stream",
          "name": "stdout",
          "text": [
            "Matrix C:\n",
            "Matrix:\n",
            "[[1. 1. 1.]\n",
            " [1. 1. 1.]\n",
            " [1. 1. 1.]\n",
            " [1. 1. 1.]\n",
            " [1. 1. 1.]\n",
            " [1. 1. 1.]]\n",
            "\n",
            "Shape:\t(6, 3)\n",
            "Rank:\t2\n",
            "Is Square: False\n",
            "\n",
            "Identity Matrix\n",
            "Not a Ones Matrix\n",
            "Non-Zero Matrix\n"
          ]
        }
      ]
    },
    {
      "cell_type": "markdown",
      "source": [
        "# Task **2**"
      ],
      "metadata": {
        "id": "wAebBoWv9Ob9"
      }
    },
    {
      "cell_type": "markdown",
      "source": [
        "::Create a function named `mat_operations()` that takes in two matrices a input parameters it should:<br>\n",
        " 1. Determines if the matrices are viable for operation and returns your own error message if they are not viable.\n",
        " 2. Returns the sum of the matrices.\n",
        " 3. Returns the difference of the matrices.\n",
        " 4. Returns the element-wise multiplication of the matrices.\n",
        " 5. Returns the element-wise division of the matrices.\n",
        "\n",
        "Use 3 sample matrices in which their shapes are not lower than $(3,3)$.\n",
        "In your methodology, create a flowchart discuss the functions and methods you have done. Present your results in the results section showing the description of each matrix you have declared."
      ],
      "metadata": {
        "id": "wxLc7bJHmt3h"
      }
    },
    {
      "cell_type": "code",
      "source": [
        "A = np.array([\n",
        "    [9,8,7],\n",
        "    [6,5,4],\n",
        "    [3,2,1]\n",
        "])\n",
        "\n",
        "B = np.array([\n",
        "    [1,2,3],\n",
        "    [4,5,6],\n",
        "    [7,8,9]\n",
        "])\n",
        "\n",
        "matrix_A = np.shape(A)\n",
        "matrix_B = np.shape(B)\n",
        "\n",
        "def mat_operations(A,B):\n",
        "  matrix_A = np.shape(A)\n",
        "  matrix_B = np.shape(B)\n",
        "\n",
        "if matrix_A == matrix_B:\n",
        "  print(\"The sum is: \")\n",
        "  print(A+B)\n",
        "  print(\"The difference is: \")\n",
        "  print(A-B)\n",
        "  print(\"The product is: \")\n",
        "  print(A*B)\n",
        "  print(\"The quotient is: \")\n",
        "  print(A/B)\n",
        "else:\n",
        "  print(\"The matrices are not viable for operation\")"
      ],
      "metadata": {
        "colab": {
          "base_uri": "https://localhost:8080/"
        },
        "id": "m5sIlcV7Xe8c",
        "outputId": "20a10f96-b835-428f-9b3b-3d9338c51520"
      },
      "execution_count": null,
      "outputs": [
        {
          "output_type": "stream",
          "name": "stdout",
          "text": [
            "The sum is: \n",
            "[[10 10 10]\n",
            " [10 10 10]\n",
            " [10 10 10]]\n",
            "The difference is: \n",
            "[[ 8  6  4]\n",
            " [ 2  0 -2]\n",
            " [-4 -6 -8]]\n",
            "The product is: \n",
            "[[ 9 16 21]\n",
            " [24 25 24]\n",
            " [21 16  9]]\n",
            "The quotient is: \n",
            "[[9.         4.         2.33333333]\n",
            " [1.5        1.         0.66666667]\n",
            " [0.42857143 0.25       0.11111111]]\n"
          ]
        }
      ]
    },
    {
      "cell_type": "code",
      "source": [
        "H = np.array([\n",
        "    [5,5,0],\n",
        "    [1,7,3],\n",
        "    [4,2,9]\n",
        "])\n",
        "\n",
        "I = np.array([\n",
        "    [1,2,3,0],\n",
        "    [4,51,0,7],\n",
        "    [7,6,9,10]\n",
        "])\n",
        "\n",
        "matrix_H = np.shape(H)\n",
        "matrix_I = np.shape(I)\n",
        "\n",
        "def mat_operations(H,I):\n",
        "  matrix_A = np.shape(H)\n",
        "  matrix_B = np.shape(I)\n",
        "\n",
        "if matrix_H == matrix_I:\n",
        "  print(\"The sum is: \")\n",
        "  print(H+I)\n",
        "  print(\"The difference is: \")\n",
        "  print(H-I)\n",
        "  print(\"The product is: \")\n",
        "  print(H*I)\n",
        "  print(\"The quotient is: \")\n",
        "  print(H/I)\n",
        "else:\n",
        "  print(\"The matrices are not viable for operation\")\n"
      ],
      "metadata": {
        "colab": {
          "base_uri": "https://localhost:8080/"
        },
        "id": "yV811y0oaD5_",
        "outputId": "c9adb037-83aa-4a21-e897-c47ebe4e6c70"
      },
      "execution_count": null,
      "outputs": [
        {
          "output_type": "stream",
          "name": "stdout",
          "text": [
            "The matrices are not viable for operation\n"
          ]
        }
      ]
    },
    {
      "cell_type": "code",
      "source": [
        "Alera = np.array([\n",
        "    [1,3,6],\n",
        "    [10,15,21],\n",
        "    [28,36,45]\n",
        "])\n",
        "\n",
        "Aquilon = np.array([\n",
        "    [1,1,1],\n",
        "    [3,3,3],\n",
        "    [7,7,7]\n",
        "])\n",
        "\n",
        "matrix_Alera = np.shape(Alera)\n",
        "matrix_Aquilon = np.shape(Aquilon)\n",
        "\n",
        "def mat_operations(Alera,Aquilon):\n",
        "  matrix_Alera = np.shape(Alera)\n",
        "  matrix_Aquilon = np.shape(Aquilon)\n",
        "\n",
        "if matrix_Alera == matrix_Aquilon:\n",
        "  print(\"The sum is: \")\n",
        "  print(Aquilon+Alera)\n",
        "  print(\"The difference is: \")\n",
        "  print(Aquilon-Alera)\n",
        "  print(\"The product is: \")\n",
        "  print(Aquilon*Alera)\n",
        "  print(\"The quotient is: \")\n",
        "  print(Aquilon/Alera)\n",
        "else:\n",
        "  print(\"The matrices are not viable for operation\")"
      ],
      "metadata": {
        "colab": {
          "base_uri": "https://localhost:8080/"
        },
        "id": "Cu-6sl0AarPp",
        "outputId": "3f1c21bf-c4f9-4392-8043-dfd8d6a68dbd"
      },
      "execution_count": null,
      "outputs": [
        {
          "output_type": "stream",
          "name": "stdout",
          "text": [
            "The sum is: \n",
            "[[ 2  4  7]\n",
            " [13 18 24]\n",
            " [35 43 52]]\n",
            "The difference is: \n",
            "[[  0  -2  -5]\n",
            " [ -7 -12 -18]\n",
            " [-21 -29 -38]]\n",
            "The product is: \n",
            "[[  1   3   6]\n",
            " [ 30  45  63]\n",
            " [196 252 315]]\n",
            "The quotient is: \n",
            "[[1.         0.33333333 0.16666667]\n",
            " [0.3        0.2        0.14285714]\n",
            " [0.25       0.19444444 0.15555556]]\n"
          ]
        }
      ]
    },
    {
      "cell_type": "markdown",
      "source": [
        "## Conclusion "
      ],
      "metadata": {
        "id": "-Om0un3hmzi0"
      }
    },
    {
      "cell_type": "markdown",
      "source": [
        "\n",
        "The learners have gained enough knowledge and skills in utilizing matrices in this laboratory. Beginning with translating linear equations into matrices, declaring and describing different sizes of matrices, categorizing matrices according to their shapes and elemental values, and lastly performing algebraic operations with the matrices. Moreover, the extra activity given was also a great opportunity to hasten their capabilities in programming. Lastly, they have realized the importance of matrices when it comes to technology because of its advantage of ***giving quick but good approximations to complicated problems***. Aside from these, it has a lot of application in several fields, making it essential for the improvement of our society. \n"
      ],
      "metadata": {
        "id": "KAeau3FYm6Rz"
      }
    }
  ]
}