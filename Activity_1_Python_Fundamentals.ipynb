{
  "cells": [
    {
      "cell_type": "markdown",
      "metadata": {
        "id": "view-in-github",
        "colab_type": "text"
      },
      "source": [
        "<a href=\"https://colab.research.google.com/github/arbeecvam/Linear-Algebra-2nd-Sem/blob/main/Activity_1_Python_Fundamentals.ipynb\" target=\"_parent\"><img src=\"https://colab.research.google.com/assets/colab-badge.svg\" alt=\"Open In Colab\"/></a>"
      ]
    },
    {
      "cell_type": "markdown",
      "metadata": {
        "id": "0AxMfeygs2-L"
      },
      "source": [
        "# Welcome to Python Fundamentals\n",
        "In this module, we are going to establish or review our skills in Python programming. In this notebook we are going to cover:\n",
        "* Variables and Data Types \n",
        "* Operations\n",
        "* Input and Output Operations\n",
        "* Logic Control\n",
        "* Iterables\n",
        "* Functions"
      ]
    },
    {
      "cell_type": "code",
      "execution_count": null,
      "metadata": {
        "id": "sYfkNe7jlSoz"
      },
      "outputs": [],
      "source": [
        ""
      ]
    },
    {
      "cell_type": "markdown",
      "metadata": {
        "id": "ea8ygkDltDWm"
      },
      "source": [
        "## Variable and Data Types\n"
      ]
    },
    {
      "cell_type": "markdown",
      "metadata": {
        "id": "0xAM1T740MLS"
      },
      "source": [
        "Variables are used as a container of values that can be named and assigned multiple times within a program. It is a memory location that can be changed in the future depending on specifications. These variables include several data types such as numerics, sequence type, boolean, sets, and dictionary"
      ]
    },
    {
      "cell_type": "code",
      "execution_count": null,
      "metadata": {
        "colab": {
          "base_uri": "https://localhost:8080/"
        },
        "id": "NbBsh0ZWtTVH",
        "outputId": "befe93d5-db9a-433d-887e-6ab1211f7b44"
      },
      "outputs": [
        {
          "data": {
            "text/plain": [
              "10"
            ]
          },
          "execution_count": 17,
          "metadata": {},
          "output_type": "execute_result"
        }
      ],
      "source": [
        "y = 10\n",
        "a,b = 4, -17\n",
        "y"
      ]
    },
    {
      "cell_type": "code",
      "execution_count": null,
      "metadata": {
        "colab": {
          "base_uri": "https://localhost:8080/"
        },
        "id": "ihrvwI2KvF8s",
        "outputId": "3169b164-ef03-4695-9b75-bb3794ece5ba"
      },
      "outputs": [
        {
          "data": {
            "text/plain": [
              "int"
            ]
          },
          "execution_count": 18,
          "metadata": {},
          "output_type": "execute_result"
        }
      ],
      "source": [
        "type(y)"
      ]
    },
    {
      "cell_type": "code",
      "execution_count": null,
      "metadata": {
        "colab": {
          "base_uri": "https://localhost:8080/"
        },
        "id": "XwXLikNXvZ6O",
        "outputId": "f1eea853-4ef9-4255-ff81-938b626cc2f2"
      },
      "outputs": [
        {
          "data": {
            "text/plain": [
              "float"
            ]
          },
          "execution_count": 7,
          "metadata": {},
          "output_type": "execute_result"
        }
      ],
      "source": [
        "x = 1.0\n",
        "type (x)"
      ]
    },
    {
      "cell_type": "code",
      "execution_count": null,
      "metadata": {
        "colab": {
          "base_uri": "https://localhost:8080/"
        },
        "id": "r0YqziaBvooE",
        "outputId": "0c1817f4-fea9-421d-8d4b-d40b117edb91"
      },
      "outputs": [
        {
          "data": {
            "text/plain": [
              "10.0"
            ]
          },
          "execution_count": 10,
          "metadata": {},
          "output_type": "execute_result"
        }
      ],
      "source": [
        "y = float (y)\n",
        "y"
      ]
    },
    {
      "cell_type": "code",
      "execution_count": null,
      "metadata": {
        "colab": {
          "base_uri": "https://localhost:8080/"
        },
        "id": "cGI7rFORwmRJ",
        "outputId": "0e3ebccf-f6b0-48cd-9b0f-41bb144e0245"
      },
      "outputs": [
        {
          "data": {
            "text/plain": [
              "float"
            ]
          },
          "execution_count": 11,
          "metadata": {},
          "output_type": "execute_result"
        }
      ],
      "source": [
        "x = float (x)\n",
        "type (x)"
      ]
    },
    {
      "cell_type": "code",
      "execution_count": null,
      "metadata": {
        "colab": {
          "base_uri": "https://localhost:8080/"
        },
        "id": "dof_TIWUwt-b",
        "outputId": "9d63f47a-48b4-4cb1-c247-d6148f6fe732"
      },
      "outputs": [
        {
          "data": {
            "text/plain": [
              "str"
            ]
          },
          "execution_count": 15,
          "metadata": {},
          "output_type": "execute_result"
        }
      ],
      "source": [
        "l,r,b = \"3\",'1', 'one'\n",
        "type (b)"
      ]
    },
    {
      "cell_type": "code",
      "execution_count": null,
      "metadata": {
        "colab": {
          "base_uri": "https://localhost:8080/"
        },
        "id": "51nDszWOxRL3",
        "outputId": "171344b6-d52f-4b9d-b9f5-9feb4a3d6ab5"
      },
      "outputs": [
        {
          "data": {
            "text/plain": [
              "str"
            ]
          },
          "execution_count": 19,
          "metadata": {},
          "output_type": "execute_result"
        }
      ],
      "source": [
        "r_int = int(r)\n",
        "type (r)"
      ]
    },
    {
      "cell_type": "markdown",
      "metadata": {
        "id": "ATVsQWjFx9gi"
      },
      "source": [
        "## Operations"
      ]
    },
    {
      "cell_type": "markdown",
      "metadata": {
        "id": "Z-D2r7SSKgoI"
      },
      "source": [
        "Operators allows performing operations among values and variables. This section is divided into four categories namely Arithmetic, Assignment Operations, Comparators, and Logical Operations. "
      ]
    },
    {
      "cell_type": "markdown",
      "metadata": {
        "id": "XUIJN9TyyHkj"
      },
      "source": [
        "### Arithmetic"
      ]
    },
    {
      "cell_type": "markdown",
      "metadata": {
        "id": "a4PXqsIJh7Eq"
      },
      "source": [
        "Arithmetic Operators are used to perform basic mathematical functions such as Addition, Subtraction, Multiplication, and Division. But, for Python program, additional tools has been added such as Floor Division, Exponentiation, and Modulus. "
      ]
    },
    {
      "cell_type": "code",
      "execution_count": null,
      "metadata": {
        "colab": {
          "background_save": true
        },
        "id": "rJDCuZgayOg5"
      },
      "outputs": [],
      "source": [
        "a, b, c, d = 3.0, -0.5, 0, -38"
      ]
    },
    {
      "cell_type": "code",
      "execution_count": 3,
      "metadata": {
        "colab": {
          "base_uri": "https://localhost:8080/"
        },
        "id": "qkM14HmiyZBo",
        "outputId": "776b3cda-990e-4f2b-90c2-5291e9b72f2d"
      },
      "outputs": [
        {
          "output_type": "execute_result",
          "data": {
            "text/plain": [
              "2.5"
            ]
          },
          "metadata": {},
          "execution_count": 3
        }
      ],
      "source": [
        "### Addition\n",
        "s = a+b\n",
        "s"
      ]
    },
    {
      "cell_type": "code",
      "execution_count": 4,
      "metadata": {
        "colab": {
          "base_uri": "https://localhost:8080/"
        },
        "id": "mVW0aYGOyvZk",
        "outputId": "bcaf8c1d-5589-4d92-d9dc-efe7ebb9be95"
      },
      "outputs": [
        {
          "output_type": "execute_result",
          "data": {
            "text/plain": [
              "37.5"
            ]
          },
          "metadata": {},
          "execution_count": 4
        }
      ],
      "source": [
        "### Subtraction\n",
        "D = b-d\n",
        "D"
      ]
    },
    {
      "cell_type": "code",
      "execution_count": 5,
      "metadata": {
        "colab": {
          "base_uri": "https://localhost:8080/"
        },
        "id": "LNRrB0zdzS-w",
        "outputId": "bf82bee6-98c5-463e-e96e-d2f8fe1c2ce9"
      },
      "outputs": [
        {
          "output_type": "execute_result",
          "data": {
            "text/plain": [
              "-114.0"
            ]
          },
          "metadata": {},
          "execution_count": 5
        }
      ],
      "source": [
        "### Multiplication\n",
        "P = a*d\n",
        "P"
      ]
    },
    {
      "cell_type": "code",
      "execution_count": 6,
      "metadata": {
        "colab": {
          "base_uri": "https://localhost:8080/"
        },
        "id": "vcgWyuT2zfps",
        "outputId": "6dfc32d8-8109-46f6-ef6f-d9e71fa5e238"
      },
      "outputs": [
        {
          "output_type": "execute_result",
          "data": {
            "text/plain": [
              "0.0"
            ]
          },
          "metadata": {},
          "execution_count": 6
        }
      ],
      "source": [
        "### Division\n",
        "Q= c/a\n",
        "Q"
      ]
    },
    {
      "cell_type": "markdown",
      "metadata": {
        "id": "quc8C0HJlVRO"
      },
      "source": [
        "**Additional Operations**"
      ]
    },
    {
      "cell_type": "code",
      "execution_count": null,
      "metadata": {
        "colab": {
          "base_uri": "https://localhost:8080/"
        },
        "id": "0kF6LHWNzz_f",
        "outputId": "8b6909a7-cf1d-4825-deb0-a697c4127e42"
      },
      "outputs": [
        {
          "data": {
            "text/plain": [
              "76.0"
            ]
          },
          "execution_count": 5,
          "metadata": {},
          "output_type": "execute_result"
        }
      ],
      "source": [
        "### Floor Division\n",
        "Fq = d//b\n",
        "Fq"
      ]
    },
    {
      "cell_type": "markdown",
      "metadata": {
        "id": "HZJIT-Ppk7ud"
      },
      "source": [
        "**Floor Division** is same with the normal process of division but the difference is that the code allows the user to round up the quotient to the nearest whole number. "
      ]
    },
    {
      "cell_type": "code",
      "execution_count": null,
      "metadata": {
        "colab": {
          "base_uri": "https://localhost:8080/"
        },
        "id": "pYqUIuGK0p9O",
        "outputId": "92ef9a97-3bec-4882-f435-d35115bfb518"
      },
      "outputs": [
        {
          "data": {
            "text/plain": [
              "0.7071067811865476"
            ]
          },
          "execution_count": 59,
          "metadata": {},
          "output_type": "execute_result"
        }
      ],
      "source": [
        "### Exponentiation\n",
        "E = a**b\n",
        "E"
      ]
    },
    {
      "cell_type": "markdown",
      "metadata": {
        "id": "GA2fUNoNlx3i"
      },
      "source": [
        "**Exponentiation** refers to the process of having an exponent to the assigned values. "
      ]
    },
    {
      "cell_type": "code",
      "execution_count": null,
      "metadata": {
        "colab": {
          "base_uri": "https://localhost:8080/"
        },
        "id": "3Xh3Wpjn1g1B",
        "outputId": "b3c19d70-6c71-4dd9-8c15-a80154e8d755"
      },
      "outputs": [
        {
          "data": {
            "text/plain": [
              "1.0"
            ]
          },
          "execution_count": 64,
          "metadata": {},
          "output_type": "execute_result"
        }
      ],
      "source": [
        "### Modulo\n",
        "mod = d%a\n",
        "mod"
      ]
    },
    {
      "cell_type": "markdown",
      "metadata": {
        "id": "7X4eDwP8l9kW"
      },
      "source": [
        "**Modulo** refers to the process of calculating the remainder of the divident and divisor represented by the symbol % (percentage sign) Modulo calculates the remainder of dividing two values. This operator is represented by the percentage sign (%). The syntax for the modulo operator is: number1 % number2. The first number is divided by the second then the remainder is returned."
      ]
    },
    {
      "cell_type": "markdown",
      "metadata": {
        "id": "VGnY42-y1hP-"
      },
      "source": [
        "### Assignment Operations"
      ]
    },
    {
      "cell_type": "markdown",
      "metadata": {
        "id": "mvWFh2_2s_xG"
      },
      "source": [
        "Based on its name, assignment operations are used to assign values and perform algebraic equations."
      ]
    },
    {
      "cell_type": "code",
      "execution_count": null,
      "metadata": {
        "id": "F75hQbWj1mYX"
      },
      "outputs": [],
      "source": [
        "G, H, J, K = 0, 100, 2, 2"
      ]
    },
    {
      "cell_type": "code",
      "execution_count": null,
      "metadata": {
        "colab": {
          "base_uri": "https://localhost:8080/"
        },
        "id": "TJoupNA71ywL",
        "outputId": "8ff18d46-5af1-490e-c82c-199011ae1451"
      },
      "outputs": [
        {
          "data": {
            "text/plain": [
              "3.0"
            ]
          },
          "execution_count": 6,
          "metadata": {},
          "output_type": "execute_result"
        }
      ],
      "source": [
        "G += a\n",
        "G"
      ]
    },
    {
      "cell_type": "code",
      "execution_count": null,
      "metadata": {
        "colab": {
          "base_uri": "https://localhost:8080/"
        },
        "id": "n4fGLElt2a2u",
        "outputId": "adecd2ba-735f-4447-ebc5-bd529cc61ca4"
      },
      "outputs": [
        {
          "data": {
            "text/plain": [
              "328"
            ]
          },
          "execution_count": 72,
          "metadata": {},
          "output_type": "execute_result"
        }
      ],
      "source": [
        "H -= d\n",
        "H"
      ]
    },
    {
      "cell_type": "code",
      "execution_count": null,
      "metadata": {
        "colab": {
          "base_uri": "https://localhost:8080/"
        },
        "id": "yD3TMIOr29LV",
        "outputId": "dfcd7f34-97b1-4c83-b18d-f83fde4f9bd0"
      },
      "outputs": [
        {
          "data": {
            "text/plain": [
              "24"
            ]
          },
          "execution_count": 75,
          "metadata": {},
          "output_type": "execute_result"
        }
      ],
      "source": [
        "J *= 3\n",
        "J"
      ]
    },
    {
      "cell_type": "code",
      "execution_count": null,
      "metadata": {
        "colab": {
          "base_uri": "https://localhost:8080/"
        },
        "id": "w6dVZLr33I17",
        "outputId": "2fec9074-8145-435e-f270-c7f2403d086b"
      },
      "outputs": [
        {
          "data": {
            "text/plain": [
              "65536"
            ]
          },
          "execution_count": 79,
          "metadata": {},
          "output_type": "execute_result"
        }
      ],
      "source": [
        "K **= 2\n",
        "K"
      ]
    },
    {
      "cell_type": "markdown",
      "metadata": {
        "id": "zFLVbTbW3YLm"
      },
      "source": [
        "### Comparators"
      ]
    },
    {
      "cell_type": "markdown",
      "metadata": {
        "id": "U50k2t8huP2V"
      },
      "source": [
        "**Comparators** are used to compare values depending if they are equal, Not equal, Greater than, Less than, Greater than or equal to, and\tLess than or equal to."
      ]
    },
    {
      "cell_type": "code",
      "execution_count": null,
      "metadata": {
        "id": "4rcQNzlL3bFa"
      },
      "outputs": [],
      "source": [
        "res_1, res_2, res_3 = 1, 2.0, \"1\"\n",
        "true_val = 1.0"
      ]
    },
    {
      "cell_type": "code",
      "execution_count": null,
      "metadata": {
        "colab": {
          "base_uri": "https://localhost:8080/"
        },
        "id": "tWsxYHK73umV",
        "outputId": "2d0fe4c0-5cc1-47e9-ed98-f398427933d3"
      },
      "outputs": [
        {
          "data": {
            "text/plain": [
              "False"
            ]
          },
          "execution_count": 82,
          "metadata": {},
          "output_type": "execute_result"
        }
      ],
      "source": [
        "## Equality\n",
        "res_2 == true_val"
      ]
    },
    {
      "cell_type": "code",
      "execution_count": null,
      "metadata": {
        "colab": {
          "base_uri": "https://localhost:8080/"
        },
        "id": "jOzkZy8731Ok",
        "outputId": "9e6bbb74-4288-4d15-c7aa-23561f1559e9"
      },
      "outputs": [
        {
          "data": {
            "text/plain": [
              "True"
            ]
          },
          "execution_count": 84,
          "metadata": {},
          "output_type": "execute_result"
        }
      ],
      "source": [
        "## Non-equality\n",
        "res_3 != true_val"
      ]
    },
    {
      "cell_type": "code",
      "execution_count": null,
      "metadata": {
        "colab": {
          "base_uri": "https://localhost:8080/"
        },
        "id": "inVOmnCS4B-s",
        "outputId": "b99d5476-5992-407f-832b-863e95664cbb"
      },
      "outputs": [
        {
          "data": {
            "text/plain": [
              "True"
            ]
          },
          "execution_count": 89,
          "metadata": {},
          "output_type": "execute_result"
        }
      ],
      "source": [
        "## Inequality\n",
        "t1 = res_1 > res_2\n",
        "t2 = res_1 < res_2/2\n",
        "t3 = res_1 >= res_2/2\n",
        "t4 = res_1 <= res_2\n",
        "t4"
      ]
    },
    {
      "cell_type": "markdown",
      "metadata": {
        "id": "v017m8Uf5St6"
      },
      "source": [
        "### Logical"
      ]
    },
    {
      "cell_type": "markdown",
      "metadata": {
        "id": "7wsE_ip7vH0e"
      },
      "source": [
        "**Logical** operators are designed to make or combine conditional statements such as and, or, and not which results to a code result of True or False."
      ]
    },
    {
      "cell_type": "code",
      "execution_count": null,
      "metadata": {
        "colab": {
          "base_uri": "https://localhost:8080/"
        },
        "id": "UDhXg5Rd5VHT",
        "outputId": "c05df579-50eb-48d0-ee9f-6f75a1232f4f"
      },
      "outputs": [
        {
          "data": {
            "text/plain": [
              "True"
            ]
          },
          "execution_count": 90,
          "metadata": {},
          "output_type": "execute_result"
        }
      ],
      "source": [
        "res_1 == true_val"
      ]
    },
    {
      "cell_type": "code",
      "execution_count": null,
      "metadata": {
        "colab": {
          "base_uri": "https://localhost:8080/"
        },
        "id": "oDfoWFEO5n6a",
        "outputId": "a021c2e0-bfc0-441b-d956-66d26176d137"
      },
      "outputs": [
        {
          "data": {
            "text/plain": [
              "False"
            ]
          },
          "execution_count": 91,
          "metadata": {},
          "output_type": "execute_result"
        }
      ],
      "source": [
        "res_1 is true_val"
      ]
    },
    {
      "cell_type": "code",
      "execution_count": null,
      "metadata": {
        "colab": {
          "base_uri": "https://localhost:8080/"
        },
        "id": "VsPxQEVC5u_l",
        "outputId": "294b966c-27e7-4032-e90d-05867aac9842"
      },
      "outputs": [
        {
          "data": {
            "text/plain": [
              "True"
            ]
          },
          "execution_count": 93,
          "metadata": {},
          "output_type": "execute_result"
        }
      ],
      "source": [
        "res_1 is not true_val"
      ]
    },
    {
      "cell_type": "code",
      "execution_count": null,
      "metadata": {
        "colab": {
          "base_uri": "https://localhost:8080/"
        },
        "id": "n9CP-5Zu6WG5",
        "outputId": "b2d5a53a-500f-47d7-fdcd-f6c64fd61a4f"
      },
      "outputs": [
        {
          "data": {
            "text/plain": [
              "False"
            ]
          },
          "execution_count": 101,
          "metadata": {},
          "output_type": "execute_result"
        }
      ],
      "source": [
        "p, q = True, False\n",
        "conj = p and q\n",
        "conj"
      ]
    },
    {
      "cell_type": "code",
      "execution_count": null,
      "metadata": {
        "colab": {
          "base_uri": "https://localhost:8080/"
        },
        "id": "i5m8woza7O6K",
        "outputId": "8a247dd0-d232-40c0-92b9-75057f015fd6"
      },
      "outputs": [
        {
          "data": {
            "text/plain": [
              "False"
            ]
          },
          "execution_count": 100,
          "metadata": {},
          "output_type": "execute_result"
        }
      ],
      "source": [
        "p, q = False, False\n",
        "disj = p or q\n",
        "disj"
      ]
    },
    {
      "cell_type": "code",
      "execution_count": null,
      "metadata": {
        "colab": {
          "base_uri": "https://localhost:8080/"
        },
        "id": "1vRN7en17b2Y",
        "outputId": "ff55b6ba-67e0-44fa-c830-68f111ff5684"
      },
      "outputs": [
        {
          "data": {
            "text/plain": [
              "True"
            ]
          },
          "execution_count": 104,
          "metadata": {},
          "output_type": "execute_result"
        }
      ],
      "source": [
        "p, q = True, False\n",
        "e = not (q)\n",
        "e"
      ]
    },
    {
      "cell_type": "code",
      "execution_count": null,
      "metadata": {
        "colab": {
          "base_uri": "https://localhost:8080/"
        },
        "id": "pNxfMlqQ7nl-",
        "outputId": "5f36d9d9-b7a4-4829-e8e6-c00f8ac3b877"
      },
      "outputs": [
        {
          "data": {
            "text/plain": [
              "True"
            ]
          },
          "execution_count": 105,
          "metadata": {},
          "output_type": "execute_result"
        }
      ],
      "source": [
        "p, q = True, False\n",
        "xor = (not p and q) or (p and not q)\n",
        "xor"
      ]
    },
    {
      "cell_type": "markdown",
      "metadata": {
        "id": "XpthrNM08Dk9"
      },
      "source": [
        "## Input and Output Operations"
      ]
    },
    {
      "cell_type": "markdown",
      "metadata": {
        "id": "Ktu8pGQAN55D"
      },
      "source": [
        "The input operation uses input() function to present the input of the program, whereas the output operation uses print() function to show the output of a program. \n",
        " \n",
        "For input, it takes input from the user, evaluates it (only accepts valid python expressions), and converts it into a string format. \n",
        " \n",
        "For output, it evaluates the expression first before printing a complete line. Moreover, a comma is used in order to print more than one item on a single line. \n"
      ]
    },
    {
      "cell_type": "code",
      "execution_count": null,
      "metadata": {
        "colab": {
          "base_uri": "https://localhost:8080/"
        },
        "id": "nIY5eHij8FUk",
        "outputId": "e03c7643-e116-4301-83a9-c47ddb81c2d5"
      },
      "outputs": [
        {
          "name": "stdout",
          "output_type": "stream",
          "text": [
            "Hello World\n"
          ]
        }
      ],
      "source": [
        "print(\"Hello World\")"
      ]
    },
    {
      "cell_type": "code",
      "execution_count": null,
      "metadata": {
        "id": "j21VBqvn8JKT"
      },
      "outputs": [],
      "source": [
        "cnt = 1"
      ]
    },
    {
      "cell_type": "code",
      "execution_count": null,
      "metadata": {
        "colab": {
          "base_uri": "https://localhost:8080/"
        },
        "id": "6nevpnsa8SqK",
        "outputId": "5c515c72-c55d-452d-f700-f59cb18b9cfc"
      },
      "outputs": [
        {
          "name": "stdout",
          "output_type": "stream",
          "text": [
            "Hello World  , Current run counit is: 13\n"
          ]
        }
      ],
      "source": [
        "string = \"Hello World\"\n",
        "print(string, \" , Current run count is:\", cnt)\n",
        "cnt += 4"
      ]
    },
    {
      "cell_type": "code",
      "execution_count": null,
      "metadata": {
        "colab": {
          "base_uri": "https://localhost:8080/"
        },
        "id": "qQJxOKSl8nuk",
        "outputId": "3afe9680-67d0-45b5-8bed-35c2a4b0a678"
      },
      "outputs": [
        {
          "name": "stdout",
          "output_type": "stream",
          "text": [
            "Hello World, Current count is: 17\n"
          ]
        }
      ],
      "source": [
        "print(f\"{string}, Current count is: {cnt}\")"
      ]
    },
    {
      "cell_type": "code",
      "execution_count": null,
      "metadata": {
        "colab": {
          "base_uri": "https://localhost:8080/"
        },
        "id": "Pa2gsN_L9Vhk",
        "outputId": "aff17d5a-0b7c-4c2f-dbe9-ae2218872715"
      },
      "outputs": [
        {
          "name": "stdout",
          "output_type": "stream",
          "text": [
            "Hello hakdog, your semestral grade is: 85\n"
          ]
        }
      ],
      "source": [
        "sem_grade = 85\n",
        "name = \"hakdog\"\n",
        "print(\"Hello {}, your semestral grade is: {}\".format(name, sem_grade))"
      ]
    },
    {
      "cell_type": "code",
      "execution_count": null,
      "metadata": {
        "colab": {
          "base_uri": "https://localhost:8080/"
        },
        "id": "sEKi7Dic9rkw",
        "outputId": "2bd45ee4-d5cc-4973-ea98-1815cfefb829"
      },
      "outputs": [
        {
          "name": "stdout",
          "output_type": "stream",
          "text": [
            "The weights of your semestral grades are:\n",
            "\t30.00% for Prelims\n",
            "\t30.00% for Midterms, and\n",
            "\t40.00% for Finals.\n"
          ]
        }
      ],
      "source": [
        "w_pg, w_mg, w_fg = 0.3, 0.3, 0.4\n",
        "print(\"The weights of your semestral grades are:\\\n",
        "\\n\\t{:.2%} for Prelims\\\n",
        "\\n\\t{:.2%} for Midterms, and\\\n",
        "\\n\\t{:.2%} for Finals.\".format(w_pg, w_mg, w_fg))"
      ]
    },
    {
      "cell_type": "code",
      "execution_count": null,
      "metadata": {
        "colab": {
          "base_uri": "https://localhost:8080/",
          "height": 53
        },
        "id": "D9KQfCv_t8ev",
        "outputId": "d09ad557-67d0-4eec-b9d5-e08738cb8f39"
      },
      "outputs": [
        {
          "name": "stdout",
          "output_type": "stream",
          "text": [
            "enter a number: 17\n"
          ]
        },
        {
          "data": {
            "application/vnd.google.colaboratory.intrinsic+json": {
              "type": "string"
            },
            "text/plain": [
              "'17'"
            ]
          },
          "execution_count": 2,
          "metadata": {},
          "output_type": "execute_result"
        }
      ],
      "source": [
        "x = input(\"enter a number: \")\n",
        "x"
      ]
    },
    {
      "cell_type": "code",
      "execution_count": null,
      "metadata": {
        "colab": {
          "base_uri": "https://localhost:8080/"
        },
        "id": "zteJQ6TXuntX",
        "outputId": "49662adb-5946-4ac5-f6e3-245f24717d90"
      },
      "outputs": [
        {
          "name": "stdout",
          "output_type": "stream",
          "text": [
            "yagi cutie: yago\n",
            "Enter prelim grade: 90\n",
            "Enter midterm grade: 97\n",
            "Enter finals grade: 99\n",
            "Hello yago, your semestral grade is None\n"
          ]
        }
      ],
      "source": [
        "name = input(\"yagi cutie: \")\n",
        "pg = input(\"Enter prelim grade: \")\n",
        "mg = input(\"Enter midterm grade: \")\n",
        "fg = input(\"Enter finals grade: \")\n",
        "sem_grade = None\n",
        "print(\"Hello {}, your semestral grade is {}\".format(name, sem_grade))"
      ]
    },
    {
      "cell_type": "markdown",
      "metadata": {
        "id": "qFLXayG3v1g6"
      },
      "source": [
        "# Looping Statements"
      ]
    },
    {
      "cell_type": "markdown",
      "metadata": {
        "id": "obwnuBpPv12S"
      },
      "source": [
        "\n",
        "\n",
        "```\n",
        "# This is formatted as code\n",
        "```\n",
        "\n",
        "**Loop** is a command used to perform series of statements to be executed repeatedly until a specified condition is obtained. This section is divided into two types which the While loop and For loop. "
      ]
    },
    {
      "cell_type": "markdown",
      "metadata": {
        "id": "wOHS9QDawC2B"
      },
      "source": [
        "## While"
      ]
    },
    {
      "cell_type": "markdown",
      "metadata": {
        "id": "-6ugt5G3xdly"
      },
      "source": [
        "A while loop repeats a block of code as long as a certain condition is true. Using while loops lets your program run as long as your users want them to.\n",
        "\n"
      ]
    },
    {
      "cell_type": "code",
      "execution_count": null,
      "metadata": {
        "colab": {
          "base_uri": "https://localhost:8080/"
        },
        "id": "rX0zmpOSwFNM",
        "outputId": "6c2a631f-6a4e-4129-ce3e-84b43e7ac663"
      },
      "outputs": [
        {
          "name": "stdout",
          "output_type": "stream",
          "text": [
            "0\t|\t10\n",
            "1\t|\t10\n",
            "2\t|\t10\n",
            "3\t|\t10\n",
            "4\t|\t10\n",
            "5\t|\t10\n",
            "6\t|\t10\n",
            "7\t|\t10\n",
            "8\t|\t10\n",
            "9\t|\t10\n",
            "10\t|\t10\n"
          ]
        }
      ],
      "source": [
        "## while loops\n",
        "i, j = 0, 10\n",
        "while (i<=j):\n",
        "  print(f\"{i}\\t|\\t{j}\")\n",
        "  i+=1"
      ]
    },
    {
      "cell_type": "markdown",
      "metadata": {
        "id": "leOCgzpNxYi5"
      },
      "source": [
        "## For\n"
      ]
    },
    {
      "cell_type": "markdown",
      "metadata": {
        "id": "V4i5AFSExg9U"
      },
      "source": [
        "*for* loop executes a sequence of statements multiple times and abbreviates the code that manages the loop variable.\n",
        "\n"
      ]
    },
    {
      "cell_type": "code",
      "execution_count": null,
      "metadata": {
        "id": "RIhaOFrHMi1K"
      },
      "outputs": [],
      "source": [
        ""
      ]
    },
    {
      "cell_type": "code",
      "execution_count": null,
      "metadata": {
        "colab": {
          "base_uri": "https://localhost:8080/"
        },
        "id": "TYzC_C67xaBf",
        "outputId": "56825d69-ba84-4228-c941-3b3ad1f1c672"
      },
      "outputs": [
        {
          "name": "stdout",
          "output_type": "stream",
          "text": [
            "0\n",
            "1\n",
            "2\n",
            "3\n",
            "4\n",
            "5\n",
            "6\n",
            "7\n",
            "8\n",
            "9\n"
          ]
        }
      ],
      "source": [
        "# for(int i=0; i<10; i++){\n",
        "# printf(i)\n",
        "# }\n",
        "\n",
        "i=0\n",
        "for i in range(10):\n",
        "    print(i)"
      ]
    },
    {
      "cell_type": "code",
      "execution_count": null,
      "metadata": {
        "colab": {
          "base_uri": "https://localhost:8080/"
        },
        "id": "F8EkZ4sMyGZo",
        "outputId": "71c05fd8-d728-4b06-fc25-2dfd5f97b97a"
      },
      "outputs": [
        {
          "name": "stdout",
          "output_type": "stream",
          "text": [
            "Now playing:\n",
            "\n",
            "All too well\n",
            "traitor\n",
            "Crazier\n"
          ]
        }
      ],
      "source": [
        "playlist = [\"All too well\", \"traitor\",\"Crazier\"]\n",
        "print('Now playing:\\n')\n",
        "for song in playlist:\n",
        "    print(song)"
      ]
    },
    {
      "cell_type": "markdown",
      "metadata": {
        "id": "MrfT0jzoyujO"
      },
      "source": [
        "# Flow Control"
      ]
    },
    {
      "cell_type": "markdown",
      "metadata": {
        "id": "qPuuC4iLRHPj"
      },
      "source": [
        "\n",
        "Control flow is the sequence in which the code in the program is executed. This is controlled using conditional statements, loops, and function calls. \n"
      ]
    },
    {
      "cell_type": "markdown",
      "metadata": {
        "id": "0wvj6ZFOyz3p"
      },
      "source": [
        "## Conditional Statements\n",
        "\n",
        "\n",
        "\n"
      ]
    },
    {
      "cell_type": "markdown",
      "metadata": {
        "id": "hve3T6J6RiUf"
      },
      "source": [
        "Python uses logical conditions from mathematics. These conditions can be used in the following:\n",
        "\n",
        "\n",
        "\n",
        "*   if keyword for if statements\n",
        "*   elif keyword used for \"if the previous conditions were not true, then try this condition\"\n",
        "*   else keyword for anything that is not under the preceding conditions. \n",
        "\n",
        "\n",
        "\n",
        "\n",
        "\n"
      ]
    },
    {
      "cell_type": "code",
      "execution_count": null,
      "metadata": {
        "colab": {
          "base_uri": "https://localhost:8080/"
        },
        "id": "FGOaqlyry17z",
        "outputId": "57cccb85-bead-4e15-cb36-d59236c43b39"
      },
      "outputs": [
        {
          "name": "stdout",
          "output_type": "stream",
          "text": [
            "hays\n"
          ]
        }
      ],
      "source": [
        "numeral1, numeral2 = 12, 14\n",
        "if(numeral1 == numeral2):\n",
        "  print(\"yah\")\n",
        "elif(numeral1>numeral2):\n",
        "    print(\"aww\")\n",
        "else: \n",
        "      print(\"hays\")"
      ]
    },
    {
      "cell_type": "markdown",
      "metadata": {
        "id": "TA9xnGxh1gQ2"
      },
      "source": [
        "## Functions"
      ]
    },
    {
      "cell_type": "markdown",
      "metadata": {
        "id": "8-wm_32tTyeO"
      },
      "source": [
        "Function breaks programs into smaller ones by reusing codes, making it easier to understand and troubleshoot the program. It only runs when it is activated, and can even return data as a result. \n"
      ]
    },
    {
      "cell_type": "code",
      "execution_count": null,
      "metadata": {
        "id": "PLXE6w9r1htv"
      },
      "outputs": [],
      "source": [
        "# void DeleteUser(int userid){\n",
        "# delete(userid);\n",
        "#}\n",
        "\n",
        "def delete_user (userid):\n",
        "    print(\"Successfully deleted user: {}\".format(userid))\n",
        "\n",
        "def delete_all_users ():\n",
        "  print(\"Hala bakit ka namatay\")"
      ]
    },
    {
      "cell_type": "code",
      "execution_count": null,
      "metadata": {
        "colab": {
          "base_uri": "https://localhost:8080/"
        },
        "id": "2jPgOh5t2DUD",
        "outputId": "bad2d596-ce32-4273-c197-6c39b57d3052"
      },
      "outputs": [
        {
          "name": "stdout",
          "output_type": "stream",
          "text": [
            "Successfully deleted user: Yagi\n",
            "Hala bakit ka namatay\n"
          ]
        }
      ],
      "source": [
        "userid = \"Yagi\"\n",
        "delete_user(\"Yagi\")\n",
        "delete_all_users()"
      ]
    },
    {
      "cell_type": "code",
      "execution_count": null,
      "metadata": {
        "id": "c7yvKl9l2N7W"
      },
      "outputs": [],
      "source": [
        "def add(addend1, addend2):\n",
        "    return addend1 + addend2\n",
        "\n",
        "def power_of_base2(exponent):\n",
        "    return 2**exponent"
      ]
    },
    {
      "cell_type": "code",
      "execution_count": null,
      "metadata": {
        "colab": {
          "base_uri": "https://localhost:8080/"
        },
        "id": "zLTTOQ4M3oGP",
        "outputId": "fbedbc0f-6cc8-47a7-8a5f-5d06adae9c9d"
      },
      "outputs": [
        {
          "data": {
            "text/plain": [
              "131072"
            ]
          },
          "execution_count": 43,
          "metadata": {},
          "output_type": "execute_result"
        }
      ],
      "source": [
        "#addend1, addend2 = 4, 10\n",
        "#add(addend1, addend2)\n",
        "\n",
        "exponent = 17\n",
        "power_of_base2(exponent)"
      ]
    },
    {
      "cell_type": "markdown",
      "metadata": {
        "id": "5vqhIoivxszB"
      },
      "source": [
        "## CALCULATOR"
      ]
    },
    {
      "cell_type": "code",
      "execution_count": null,
      "metadata": {
        "colab": {
          "base_uri": "https://localhost:8080/"
        },
        "id": "1W5CYgQpxvIu",
        "outputId": "ec407a4d-6155-43fb-b31b-8ee7c5304cfa"
      },
      "outputs": [
        {
          "name": "stdout",
          "output_type": "stream",
          "text": [
            "Hello student! Please fill out the necessary information needed below.\n",
            "Name of Student(SURNAME, First Name): Chiu, Kim Marie\n",
            "Course: BS Psychology\n",
            "Enter prelim grade: 85.65\n",
            "Enter midterm grade: 84.623\n",
            "Enter finals grade: 90\n",
            "\n",
            "Greetings, Chiu, Kim Marie of BS Psychology! Your calculated semestral grade is: 87.08% 😀 Thank you and Have a good day!\n"
          ]
        }
      ],
      "source": [
        "print(\"Hello student! Please fill out the necessary information needed below.\")\n",
        "name = input(\"Name of Student(SURNAME, First Name): \")\n",
        "course = input(\"Course: \")\n",
        "pg = input(\"Enter prelim grade: \")\n",
        "mg = input(\"Enter midterm grade: \")\n",
        "fg = input(\"Enter finals grade: \")\n",
        "pg=float(pg)\n",
        "mg=float(mg)\n",
        "fg=float(fg)\n",
        "prelims= pg*0.30\n",
        "midterms= mg*0.30\n",
        "finals= fg*0.40\n",
        "sem = (prelims+midterms+finals)\n",
        "grade = sem/100\n",
        "passing= 0.70\n",
        "if (grade > passing):\n",
        "  print('\\nGreetings, {} of {}! Your calculated semestral grade is:{: .2%} \\U0001F600 Thank you and Have a good day!' .format(name, course, grade))\n",
        "elif(grade == passing):\n",
        "  print('\\nGreetings, {} of {}! Your calculated semestral grade is :{: .2%} \\U0001F606 Thank you and Have a good day!' .format(name, course, grade))\n",
        "else:\n",
        "  print('\\nGreetings, {} of {}! Your calculated semestral grade is :{: .2%} \\U0001F62D Thank you and Have a good day!' .format(name, course, grade))"
      ]
    }
  ],
  "metadata": {
    "colab": {
      "collapsed_sections": [
        "zFLVbTbW3YLm"
      ],
      "name": "Activity 1 - Python Fundamentals",
      "provenance": [],
      "include_colab_link": true
    },
    "kernelspec": {
      "display_name": "Python 3",
      "name": "python3"
    },
    "language_info": {
      "name": "python"
    }
  },
  "nbformat": 4,
  "nbformat_minor": 0
}